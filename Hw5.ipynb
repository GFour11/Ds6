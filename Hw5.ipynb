{
 "cells": [
  {
   "cell_type": "code",
   "execution_count": 11,
   "id": "initial_id",
   "metadata": {
    "collapsed": true,
    "ExecuteTime": {
     "end_time": "2023-10-15T17:39:45.081094900Z",
     "start_time": "2023-10-15T17:39:45.064857400Z"
    }
   },
   "outputs": [],
   "source": [
    "import os\n",
    "import pandas as pd\n",
    "import numpy as np"
   ]
  },
  {
   "cell_type": "code",
   "execution_count": 12,
   "outputs": [
    {
     "name": "stdout",
     "output_type": "stream",
     "text": [
      "   Maximum Value  Minimum Value   Entropy  Interquartile Range  \\\n",
      "0       5.099650      -0.909797  4.523231             0.065840   \n",
      "1       0.407014      -0.320823  4.123231             0.039505   \n",
      "2      -0.062249      -0.124498  3.349255             0.021548   \n",
      "3       0.560243       0.268151  4.189898             0.050279   \n",
      "4       0.560243       0.268151  4.189898             0.051476   \n",
      "\n",
      "   Maximum Value Y  Index of Minimum Value  Mean of absolute deviation  \\\n",
      "0         4.616021                       2                    0.566011   \n",
      "1         0.023942                       7                    0.028411   \n",
      "2         0.244209                      14                    0.012045   \n",
      "3         0.086191                      28                    0.037882   \n",
      "4         0.086191                      26                    0.036818   \n",
      "\n",
      "     Median  Skewness_Y  Standard deviation  Root mean square error  \\\n",
      "0 -0.131681    3.462503            1.138147                0.167435   \n",
      "1 -0.131681    0.539408            0.047251                0.131202   \n",
      "2  0.225055   -1.208369            0.016108                0.220905   \n",
      "3 -0.021548   -0.814327            0.053608                0.029528   \n",
      "4 -0.019154   -0.950313            0.053096                0.027134   \n",
      "\n",
      "   Skewness_Z    id  \n",
      "0   -0.097517  idle  \n",
      "1   -0.338492  idle  \n",
      "2   -0.064533  idle  \n",
      "3    0.019224  idle  \n",
      "4    0.018443  idle  \n"
     ]
    }
   ],
   "source": [
    "\n",
    "o =os.path.join(os.getcwd(),'data')\n",
    "path = os.path.join(o,'idle')\n",
    "file_stack = os.listdir(os.path.join(o,'idle'))\n",
    "df_idle = pd.DataFrame()\n",
    "for file in file_stack:\n",
    "    df = pd.read_csv(f'{path}/{file}')\n",
    "    new_df = pd.DataFrame({\n",
    "        'Maximum Value': [df['accelerometer_X'].max()],\n",
    "        'Minimum Value': [df['accelerometer_X'].min()],\n",
    "        'Entropy': [-np.sum(df['accelerometer_X'].value_counts(normalize=True) * np.log2(df['accelerometer_X'].value_counts(normalize=True)))],\n",
    "        'Interquartile Range' : [df['accelerometer_X'].quantile(0.75) - df['accelerometer_X'].quantile(0.25)],\n",
    "        'Maximum Value Y' : [df['accelerometer_Y'].max()],\n",
    "        'Index of Minimum Value' : [df['accelerometer_Y'].idxmin()], \n",
    "        'Mean of absolute deviation' : [np.mean(np.abs(df[\"accelerometer_Y\"].values - np.mean(df[\"accelerometer_Y\"].values)))],\n",
    "        'Median' : [df[\"accelerometer_Y\"].median()],\n",
    "        'Skewness_Y' : [np.mean((df[\"accelerometer_Y\"] - np.mean(df[\"accelerometer_Y\"])) ** 3) / np.std(\n",
    "            df[\"accelerometer_Y\"]) ** 3],\n",
    "        'Standard deviation' : [np.std(df[\"accelerometer_Y\"])],\n",
    "        'Root mean square error' : [np.sqrt(np.mean(df[\"accelerometer_Y\"])**2)],\n",
    "        'Skewness_Z' : [np.mean((df[\"accelerometer_Z\"] - np.mean(df[\"accelerometer_Z\"])) ** 3) / np.std(\n",
    "            df[\"accelerometer_Y\"]) ** 3],\n",
    "        \"id\": ['idle']\n",
    "    })\n",
    "    df_idle = pd.concat([df_idle, new_df]).reset_index(drop=True)\n",
    "\n",
    "print(df_idle.head())"
   ],
   "metadata": {
    "collapsed": false,
    "ExecuteTime": {
     "end_time": "2023-10-15T17:39:52.430337600Z",
     "start_time": "2023-10-15T17:39:45.081094900Z"
    }
   },
   "id": "594f6e70a9106a67"
  },
  {
   "cell_type": "code",
   "execution_count": 13,
   "outputs": [
    {
     "name": "stdout",
     "output_type": "stream",
     "text": [
      "   Maximum Value  Minimum Value   Entropy  Interquartile Range  \\\n",
      "0      22.720974      -4.941632  4.906891             6.890514   \n",
      "1      26.499025     -10.994174  4.906891            18.334796   \n",
      "2      30.674513      -8.006210  4.906891             8.998607   \n",
      "3      22.261288      -8.547300  4.906891            10.705673   \n",
      "4      28.629864      -8.547300  4.906891            11.465832   \n",
      "\n",
      "   Maximum Value Y  Index of Minimum Value  Mean of absolute deviation  \\\n",
      "0        19.091364                      27                    6.384644   \n",
      "1        26.015396                      18                    8.397519   \n",
      "2        29.022512                      29                   12.953121   \n",
      "3        32.671276                      17                    8.445701   \n",
      "4        32.671276                      15                    8.942609   \n",
      "\n",
      "     Median  Skewness_Y  Standard deviation  Root mean square error  \\\n",
      "0  6.210560   -0.650654            8.366661                5.481126   \n",
      "1  8.166622   -0.741472           11.021146                7.044061   \n",
      "2  7.754819   -0.265487           15.396291                6.309839   \n",
      "3  6.560113    0.254966           11.521420                6.726430   \n",
      "4  6.560113    0.266552           11.984150                7.104395   \n",
      "\n",
      "   Skewness_Z       id  \n",
      "0    0.419527  running  \n",
      "1   -0.008082  running  \n",
      "2   -0.020626  running  \n",
      "3    0.755592  running  \n",
      "4    0.683572  running  \n"
     ]
    }
   ],
   "source": [
    "o =os.path.join(os.getcwd(),'data')\n",
    "path = os.path.join(o,'running')\n",
    "file_stack = os.listdir(os.path.join(o,'running'))\n",
    "df_running = pd.DataFrame()\n",
    "for file in file_stack:\n",
    "    df = pd.read_csv(f'{path}/{file}')\n",
    "    new_df = pd.DataFrame({\n",
    "        'Maximum Value': [df['accelerometer_X'].max()],\n",
    "        'Minimum Value': [df['accelerometer_X'].min()],\n",
    "        'Entropy': [-np.sum(df['accelerometer_X'].value_counts(normalize=True) * np.log2(df['accelerometer_X'].value_counts(normalize=True)))],\n",
    "        'Interquartile Range' : [df['accelerometer_X'].quantile(0.75) - df['accelerometer_X'].quantile(0.25)],\n",
    "        'Maximum Value Y' : [df['accelerometer_Y'].max()],\n",
    "        'Index of Minimum Value' : [df['accelerometer_Y'].idxmin()],\n",
    "        'Mean of absolute deviation' : [np.mean(np.abs(df[\"accelerometer_Y\"].values - np.mean(df[\"accelerometer_Y\"].values)))],\n",
    "        'Median' : [df[\"accelerometer_Y\"].median()],\n",
    "        'Skewness_Y' : [np.mean((df[\"accelerometer_Y\"] - np.mean(df[\"accelerometer_Y\"])) ** 3) / np.std(\n",
    "            df[\"accelerometer_Y\"]) ** 3],\n",
    "        'Standard deviation' : [np.std(df[\"accelerometer_Y\"])],\n",
    "        'Root mean square error' : [np.sqrt(np.mean(df[\"accelerometer_Y\"])**2)],\n",
    "        'Skewness_Z' : [np.mean((df[\"accelerometer_Z\"] - np.mean(df[\"accelerometer_Z\"])) ** 3) / np.std(\n",
    "            df[\"accelerometer_Y\"]) ** 3],\n",
    "        \"id\": ['running']\n",
    "    })\n",
    "    df_running = pd.concat([df_running, new_df]).reset_index(drop=True)\n",
    "\n",
    "print(df_running.head())"
   ],
   "metadata": {
    "collapsed": false,
    "ExecuteTime": {
     "end_time": "2023-10-15T17:40:12.975075Z",
     "start_time": "2023-10-15T17:39:52.426347800Z"
    }
   },
   "id": "663359d53ef6613a"
  },
  {
   "cell_type": "code",
   "execution_count": 14,
   "outputs": [
    {
     "name": "stdout",
     "output_type": "stream",
     "text": [
      "   Maximum Value  Minimum Value   Entropy  Interquartile Range  \\\n",
      "0       8.073248      -4.582502  4.906891             3.848680   \n",
      "1       8.288726      -4.649539  4.906891             5.097256   \n",
      "2       8.398860      -6.224924  4.840224             3.859453   \n",
      "3       8.398860      -6.224924  4.840224             3.518280   \n",
      "4       8.398860      -6.224924  4.840224             3.587712   \n",
      "\n",
      "   Maximum Value Y  Index of Minimum Value  Mean of absolute deviation  \\\n",
      "0         2.973599                      19                    3.314692   \n",
      "1        -0.483629                      16                    3.770602   \n",
      "2        -2.715025                       3                    3.063812   \n",
      "3        -2.715025                       1                    3.023143   \n",
      "4        -2.715025                       4                    2.736732   \n",
      "\n",
      "     Median  Skewness_Y  Standard deviation  Root mean square error  \\\n",
      "0 -7.153874   -0.266458            4.630977                7.161376   \n",
      "1 -7.963115   -0.709594            4.711120                9.477846   \n",
      "2 -9.289502   -0.919218            4.158975                9.368990   \n",
      "3 -9.265560   -1.000929            4.094114                9.412564   \n",
      "4 -8.482656   -0.302645            3.365155                8.606676   \n",
      "\n",
      "   Skewness_Z      id  \n",
      "0   -0.395552  stairs  \n",
      "1   -0.599104  stairs  \n",
      "2   -4.461679  stairs  \n",
      "3   -4.548437  stairs  \n",
      "4   -8.731503  stairs  \n"
     ]
    }
   ],
   "source": [
    "o =os.path.join(os.getcwd(),'data')\n",
    "path = os.path.join(o,'stairs')\n",
    "file_stack = os.listdir(os.path.join(o,'stairs'))\n",
    "df_stairs = pd.DataFrame()\n",
    "for file in file_stack:\n",
    "    df = pd.read_csv(f'{path}/{file}')\n",
    "    new_df = pd.DataFrame({\n",
    "        'Maximum Value': [df['accelerometer_X'].max()],\n",
    "        'Minimum Value': [df['accelerometer_X'].min()],\n",
    "        'Entropy': [-np.sum(df['accelerometer_X'].value_counts(normalize=True) * np.log2(df['accelerometer_X'].value_counts(normalize=True)))],\n",
    "        'Interquartile Range' : [df['accelerometer_X'].quantile(0.75) - df['accelerometer_X'].quantile(0.25)],\n",
    "        'Maximum Value Y' : [df['accelerometer_Y'].max()],\n",
    "        'Index of Minimum Value' : [df['accelerometer_Y'].idxmin()],\n",
    "        'Mean of absolute deviation' : [np.mean(np.abs(df[\"accelerometer_Y\"].values - np.mean(df[\"accelerometer_Y\"].values)))],\n",
    "        'Median' : [df[\"accelerometer_Y\"].median()],\n",
    "        'Skewness_Y' : [np.mean((df[\"accelerometer_Y\"] - np.mean(df[\"accelerometer_Y\"])) ** 3) / np.std(\n",
    "            df[\"accelerometer_Y\"]) ** 3],\n",
    "        'Standard deviation' : [np.std(df[\"accelerometer_Y\"])],\n",
    "        'Root mean square error' : [np.sqrt(np.mean(df[\"accelerometer_Y\"])**2)],\n",
    "        'Skewness_Z' : [np.mean((df[\"accelerometer_Z\"] - np.mean(df[\"accelerometer_Z\"])) ** 3) / np.std(\n",
    "            df[\"accelerometer_Y\"]) ** 3],\n",
    "        \"id\": ['stairs']\n",
    "    })\n",
    "    df_stairs = pd.concat([df_stairs, new_df]).reset_index(drop=True)\n",
    "\n",
    "print(df_stairs.head())"
   ],
   "metadata": {
    "collapsed": false,
    "ExecuteTime": {
     "end_time": "2023-10-15T17:40:14.242959900Z",
     "start_time": "2023-10-15T17:40:12.976072700Z"
    }
   },
   "id": "e6fbda2db5675764"
  },
  {
   "cell_type": "code",
   "execution_count": 15,
   "outputs": [
    {
     "name": "stdout",
     "output_type": "stream",
     "text": [
      "   Maximum Value  Minimum Value   Entropy  Interquartile Range  \\\n",
      "0      12.363658      -2.389413  4.906891             4.782418   \n",
      "1       7.527370      -9.504981  4.906891             6.580464   \n",
      "2       1.278504     -14.159308  4.906891             3.665522   \n",
      "3      11.113884     -12.277467  4.906891             6.676232   \n",
      "4      11.113884     -12.277467  4.906891             7.320272   \n",
      "\n",
      "   Maximum Value Y  Index of Minimum Value  Mean of absolute deviation  \\\n",
      "0         4.668694                       8                    4.076527   \n",
      "1         3.423709                      15                    3.955604   \n",
      "2         5.214572                       8                    4.378910   \n",
      "3         6.435614                       8                    4.839959   \n",
      "4         6.435614                       6                    5.236045   \n",
      "\n",
      "      Median  Skewness_Y  Standard deviation  Root mean square error  \\\n",
      "0 -10.472238    0.626497            5.496892                9.385271   \n",
      "1  -9.576807    0.145279            5.246706                9.752541   \n",
      "2  -9.670181    0.773888            5.489888                8.372842   \n",
      "3 -10.307039    0.246565            6.261287               10.455798   \n",
      "4 -10.307039    0.107750            6.708585               10.837434   \n",
      "\n",
      "   Skewness_Z       id  \n",
      "0   -1.444565  walking  \n",
      "1   -0.346866  walking  \n",
      "2    1.656369  walking  \n",
      "3    3.722028  walking  \n",
      "4    2.964750  walking  \n"
     ]
    }
   ],
   "source": [
    "o =os.path.join(os.getcwd(),'data')\n",
    "path = os.path.join(o,'walking')\n",
    "file_stack = os.listdir(os.path.join(o,'walking'))\n",
    "df_walking = pd.DataFrame()\n",
    "for file in file_stack:\n",
    "    df = pd.read_csv(f'{path}/{file}')\n",
    "    new_df = pd.DataFrame({\n",
    "        'Maximum Value': [df['accelerometer_X'].max()],\n",
    "        'Minimum Value': [df['accelerometer_X'].min()],\n",
    "        'Entropy': [-np.sum(df['accelerometer_X'].value_counts(normalize=True) * np.log2(df['accelerometer_X'].value_counts(normalize=True)))],\n",
    "        'Interquartile Range' : [df['accelerometer_X'].quantile(0.75) - df['accelerometer_X'].quantile(0.25)],\n",
    "        'Maximum Value Y' : [df['accelerometer_Y'].max()],\n",
    "        'Index of Minimum Value' : [df['accelerometer_Y'].idxmin()],\n",
    "        'Mean of absolute deviation' : [np.mean(np.abs(df[\"accelerometer_Y\"].values - np.mean(df[\"accelerometer_Y\"].values)))],\n",
    "        'Median' : [df[\"accelerometer_Y\"].median()],\n",
    "        'Skewness_Y' : [np.mean((df[\"accelerometer_Y\"] - np.mean(df[\"accelerometer_Y\"])) ** 3) / np.std(\n",
    "            df[\"accelerometer_Y\"]) ** 3],\n",
    "        'Standard deviation' : [np.std(df[\"accelerometer_Y\"])],\n",
    "        'Root mean square error' : [np.sqrt(np.mean(df[\"accelerometer_Y\"])**2)],\n",
    "        'Skewness_Z' : [np.mean((df[\"accelerometer_Z\"] - np.mean(df[\"accelerometer_Z\"])) ** 3) / np.std(\n",
    "            df[\"accelerometer_Y\"]) ** 3],\n",
    "        \"id\": ['walking']\n",
    "    })\n",
    "    df_walking = pd.concat([df_walking, new_df]).reset_index(drop=True)\n",
    "\n",
    "print(df_walking.head())"
   ],
   "metadata": {
    "collapsed": false,
    "ExecuteTime": {
     "end_time": "2023-10-15T17:40:43.859116500Z",
     "start_time": "2023-10-15T17:40:14.244954500Z"
    }
   },
   "id": "2deaed4489809bab"
  },
  {
   "cell_type": "code",
   "execution_count": 16,
   "outputs": [],
   "source": [
    "df_combined = pd.concat([df_idle, df_running, df_stairs, df_walking], ignore_index=True)\n",
    "df_combined['Activity'] = df_combined['id']\n",
    "activity_mapping = {\n",
    "    'idle': 0,\n",
    "    'running': 1,\n",
    "    'stairs': 2,\n",
    "    'walking': 3\n",
    "}\n",
    "df_combined['Activity'] = df_combined['Activity'].map(activity_mapping)\n"
   ],
   "metadata": {
    "collapsed": false,
    "ExecuteTime": {
     "end_time": "2023-10-15T18:42:09.345638700Z",
     "start_time": "2023-10-15T18:42:09.214714Z"
    }
   },
   "id": "74f921229f66ca8e"
  },
  {
   "cell_type": "code",
   "execution_count": 17,
   "outputs": [],
   "source": [
    "from sklearn.model_selection import train_test_split\n",
    "\n",
    "\n",
    "X = df_combined.drop(['id', 'Activity'], axis=1)\n",
    "y = df_combined['Activity']\n",
    "\n",
    "X_train, X_test, y_train, y_test = train_test_split(X, y, test_size=0.2, random_state=42)\n"
   ],
   "metadata": {
    "collapsed": false,
    "ExecuteTime": {
     "end_time": "2023-10-15T18:53:16.904891200Z",
     "start_time": "2023-10-15T18:53:06.919614700Z"
    }
   },
   "id": "24745ea8b24c5ffa"
  },
  {
   "cell_type": "code",
   "execution_count": 18,
   "outputs": [
    {
     "data": {
      "text/plain": "RandomForestClassifier()",
      "text/html": "<style>#sk-container-id-1 {color: black;background-color: white;}#sk-container-id-1 pre{padding: 0;}#sk-container-id-1 div.sk-toggleable {background-color: white;}#sk-container-id-1 label.sk-toggleable__label {cursor: pointer;display: block;width: 100%;margin-bottom: 0;padding: 0.3em;box-sizing: border-box;text-align: center;}#sk-container-id-1 label.sk-toggleable__label-arrow:before {content: \"▸\";float: left;margin-right: 0.25em;color: #696969;}#sk-container-id-1 label.sk-toggleable__label-arrow:hover:before {color: black;}#sk-container-id-1 div.sk-estimator:hover label.sk-toggleable__label-arrow:before {color: black;}#sk-container-id-1 div.sk-toggleable__content {max-height: 0;max-width: 0;overflow: hidden;text-align: left;background-color: #f0f8ff;}#sk-container-id-1 div.sk-toggleable__content pre {margin: 0.2em;color: black;border-radius: 0.25em;background-color: #f0f8ff;}#sk-container-id-1 input.sk-toggleable__control:checked~div.sk-toggleable__content {max-height: 200px;max-width: 100%;overflow: auto;}#sk-container-id-1 input.sk-toggleable__control:checked~label.sk-toggleable__label-arrow:before {content: \"▾\";}#sk-container-id-1 div.sk-estimator input.sk-toggleable__control:checked~label.sk-toggleable__label {background-color: #d4ebff;}#sk-container-id-1 div.sk-label input.sk-toggleable__control:checked~label.sk-toggleable__label {background-color: #d4ebff;}#sk-container-id-1 input.sk-hidden--visually {border: 0;clip: rect(1px 1px 1px 1px);clip: rect(1px, 1px, 1px, 1px);height: 1px;margin: -1px;overflow: hidden;padding: 0;position: absolute;width: 1px;}#sk-container-id-1 div.sk-estimator {font-family: monospace;background-color: #f0f8ff;border: 1px dotted black;border-radius: 0.25em;box-sizing: border-box;margin-bottom: 0.5em;}#sk-container-id-1 div.sk-estimator:hover {background-color: #d4ebff;}#sk-container-id-1 div.sk-parallel-item::after {content: \"\";width: 100%;border-bottom: 1px solid gray;flex-grow: 1;}#sk-container-id-1 div.sk-label:hover label.sk-toggleable__label {background-color: #d4ebff;}#sk-container-id-1 div.sk-serial::before {content: \"\";position: absolute;border-left: 1px solid gray;box-sizing: border-box;top: 0;bottom: 0;left: 50%;z-index: 0;}#sk-container-id-1 div.sk-serial {display: flex;flex-direction: column;align-items: center;background-color: white;padding-right: 0.2em;padding-left: 0.2em;position: relative;}#sk-container-id-1 div.sk-item {position: relative;z-index: 1;}#sk-container-id-1 div.sk-parallel {display: flex;align-items: stretch;justify-content: center;background-color: white;position: relative;}#sk-container-id-1 div.sk-item::before, #sk-container-id-1 div.sk-parallel-item::before {content: \"\";position: absolute;border-left: 1px solid gray;box-sizing: border-box;top: 0;bottom: 0;left: 50%;z-index: -1;}#sk-container-id-1 div.sk-parallel-item {display: flex;flex-direction: column;z-index: 1;position: relative;background-color: white;}#sk-container-id-1 div.sk-parallel-item:first-child::after {align-self: flex-end;width: 50%;}#sk-container-id-1 div.sk-parallel-item:last-child::after {align-self: flex-start;width: 50%;}#sk-container-id-1 div.sk-parallel-item:only-child::after {width: 0;}#sk-container-id-1 div.sk-dashed-wrapped {border: 1px dashed gray;margin: 0 0.4em 0.5em 0.4em;box-sizing: border-box;padding-bottom: 0.4em;background-color: white;}#sk-container-id-1 div.sk-label label {font-family: monospace;font-weight: bold;display: inline-block;line-height: 1.2em;}#sk-container-id-1 div.sk-label-container {text-align: center;}#sk-container-id-1 div.sk-container {/* jupyter's `normalize.less` sets `[hidden] { display: none; }` but bootstrap.min.css set `[hidden] { display: none !important; }` so we also need the `!important` here to be able to override the default hidden behavior on the sphinx rendered scikit-learn.org. See: https://github.com/scikit-learn/scikit-learn/issues/21755 */display: inline-block !important;position: relative;}#sk-container-id-1 div.sk-text-repr-fallback {display: none;}</style><div id=\"sk-container-id-1\" class=\"sk-top-container\"><div class=\"sk-text-repr-fallback\"><pre>RandomForestClassifier()</pre><b>In a Jupyter environment, please rerun this cell to show the HTML representation or trust the notebook. <br />On GitHub, the HTML representation is unable to render, please try loading this page with nbviewer.org.</b></div><div class=\"sk-container\" hidden><div class=\"sk-item\"><div class=\"sk-estimator sk-toggleable\"><input class=\"sk-toggleable__control sk-hidden--visually\" id=\"sk-estimator-id-1\" type=\"checkbox\" checked><label for=\"sk-estimator-id-1\" class=\"sk-toggleable__label sk-toggleable__label-arrow\">RandomForestClassifier</label><div class=\"sk-toggleable__content\"><pre>RandomForestClassifier()</pre></div></div></div></div></div>"
     },
     "execution_count": 18,
     "metadata": {},
     "output_type": "execute_result"
    }
   ],
   "source": [
    "from sklearn.svm import SVC\n",
    "from sklearn.ensemble import RandomForestClassifier\n",
    "\n",
    "svm_classifier = SVC()\n",
    "rf_classifier = RandomForestClassifier()\n",
    "svm_classifier.fit(X_train, y_train)\n",
    "rf_classifier.fit(X_train, y_train)"
   ],
   "metadata": {
    "collapsed": false,
    "ExecuteTime": {
     "end_time": "2023-10-15T18:54:24.556351800Z",
     "start_time": "2023-10-15T18:54:21.987906900Z"
    }
   },
   "id": "25d8bdd448e68857"
  },
  {
   "cell_type": "code",
   "execution_count": 21,
   "outputs": [],
   "source": [
    "from sklearn.model_selection import GridSearchCV\n",
    "from sklearn.metrics import accuracy_score, f1_score, confusion_matrix\n",
    "\n",
    "svm_predictions = svm_classifier.predict(X_test)\n",
    "rf_predictions = rf_classifier.predict(X_test)\n",
    "\n",
    "svm_param_grid = {'C': [0.1, 1.0, 10.0, 100.0]}\n",
    "svm_model = SVC()\n",
    "svm_grid_search = GridSearchCV(svm_model, svm_param_grid, cv=5)\n",
    "svm_grid_search.fit(X_train, y_train)\n",
    "\n",
    "rf_param_grid = {'max_depth': [None, 10, 20, 30]}\n",
    "rf_model = RandomForestClassifier(random_state=42)\n",
    "rf_grid_search = GridSearchCV(rf_model, rf_param_grid, cv=5)\n",
    "rf_grid_search.fit(X_train, y_train)\n",
    "\n",
    "best_svm_model = svm_grid_search.best_estimator_\n",
    "best_rf_model = rf_grid_search.best_estimator_\n",
    "\n",
    "svm_preds = best_svm_model.predict(X_test)\n",
    "rf_preds = best_rf_model.predict(X_test)\n",
    "\n",
    "svm_accuracy = accuracy_score(y_test, svm_preds)\n",
    "rf_accuracy = accuracy_score(y_test, rf_preds)\n",
    "\n",
    "svm_f1 = f1_score(y_test, svm_preds, average='weighted')\n",
    "rf_f1 = f1_score(y_test, rf_preds, average='weighted')\n",
    "\n",
    "svm_confusion_matrix = confusion_matrix(y_test, svm_preds)\n",
    "rf_confusion_matrix = confusion_matrix(y_test, rf_preds)"
   ],
   "metadata": {
    "collapsed": false,
    "ExecuteTime": {
     "end_time": "2023-10-15T19:19:31.454283800Z",
     "start_time": "2023-10-15T19:19:07.748843800Z"
    }
   },
   "id": "c5b1d02213107b8e"
  },
  {
   "cell_type": "code",
   "execution_count": null,
   "outputs": [],
   "source": [],
   "metadata": {
    "collapsed": false
   },
   "id": "53837e59817267ff"
  }
 ],
 "metadata": {
  "kernelspec": {
   "display_name": "Python 3",
   "language": "python",
   "name": "python3"
  },
  "language_info": {
   "codemirror_mode": {
    "name": "ipython",
    "version": 2
   },
   "file_extension": ".py",
   "mimetype": "text/x-python",
   "name": "python",
   "nbconvert_exporter": "python",
   "pygments_lexer": "ipython2",
   "version": "2.7.6"
  }
 },
 "nbformat": 4,
 "nbformat_minor": 5
}
